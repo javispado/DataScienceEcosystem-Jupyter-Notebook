{
 "cells": [
  {
   "cell_type": "markdown",
   "id": "3170aa10-2344-4b6a-a689-616ff8cd5a38",
   "metadata": {},
   "source": [
    "<center>\n",
    "    <img src=\"https://cf-courses-data.s3.us.cloud-object-storage.appdomain.cloud/IBMDeveloperSkillsNetwork-DS0105EN-SkillsNetwork/labs/Module2/images/SN_web_lightmode.png\" width=\"300\" alt=\"cognitiveclass.ai logo\">\n",
    "</center>"
   ]
  },
  {
   "cell_type": "markdown",
   "id": "3ac3235f-d61b-4c20-8dba-3fc83e843fcf",
   "metadata": {},
   "source": [
    "<h1>Data Science Tools and Ecosystem<h1>\n",
    "\n",
    "## In this notebook, Data Science Tools and Ecosystem are summarized."
   ]
  },
  {
   "cell_type": "markdown",
   "id": "1c98b3e0-e68b-4d16-b893-e90ed4c507d0",
   "metadata": {
    "tags": []
   },
   "source": [
    "<b>Objetives:</b>\n",
    "<ul>\n",
    "<li>Data Science Languages</li>\n",
    "<li>Data Science Libraries</li>\n",
    "<li>Data Science Tools</li>\n",
    "<li>Arithmetic Expressions in Python</li>\n",
    "</ul>"
   ]
  },
  {
   "cell_type": "markdown",
   "id": "49a395ea-0501-408a-9259-3ab455ac262f",
   "metadata": {},
   "source": [
    "Some of the popular languages that Data Scientists use are:\n",
    "<ol>\n",
    "<li>Python</li>\n",
    "<li>R</li>\n",
    "<li>SQL</li>\n",
    "<li>Julia</li>\n",
    "<li>Scala</li>\n",
    "</ol>"
   ]
  },
  {
   "cell_type": "markdown",
   "id": "55ff7ceb-1a62-4ca4-bbd1-3c1ba40b1a5a",
   "metadata": {},
   "source": [
    "Some of the commonly used libraries used by Data Scientists include:\n",
    "<ol>\n",
    "<li>Pandas</li>\n",
    "<li>Numpy</li>\n",
    "<li>Matplotlib</li>\n",
    "<li>Seaborn</li>\n",
    "<li>scikit-learn</li>\n",
    "<li>Keras</li>\n",
    "</ol>"
   ]
  },
  {
   "cell_type": "markdown",
   "id": "2dec657a-62ca-44da-b931-307b303c40c6",
   "metadata": {},
   "source": [
    "| Data Science Tools  |\n",
    "|---------------------|\n",
    "| Jupyter Notebook    |\n",
    "| RStudio             |\n",
    "| VS Code             |\n"
   ]
  },
  {
   "cell_type": "markdown",
   "id": "467eeaca-4244-4ec9-bcac-45ac33f31029",
   "metadata": {},
   "source": [
    "<h3>Below are a few examples of evaluating arithmetic expressions in Python.<h3>"
   ]
  },
  {
   "cell_type": "code",
   "execution_count": 4,
   "id": "c64fbb47-517d-4c3a-b1c7-1ba4735750c2",
   "metadata": {
    "tags": []
   },
   "outputs": [
    {
     "data": {
      "text/plain": [
       "17"
      ]
     },
     "execution_count": 4,
     "metadata": {},
     "output_type": "execute_result"
    }
   ],
   "source": [
    "# This a simple arithmetic expression to mutiply then add integers.\n",
    "(3*4)+5"
   ]
  },
  {
   "cell_type": "code",
   "execution_count": 5,
   "id": "6944ef94-111b-4b34-b384-073b0b42174e",
   "metadata": {
    "tags": []
   },
   "outputs": [
    {
     "data": {
      "text/plain": [
       "3.3333333333333335"
      ]
     },
     "execution_count": 5,
     "metadata": {},
     "output_type": "execute_result"
    }
   ],
   "source": [
    "# This will convert 200 minutes to hours by diving by 60.\n",
    "200/60"
   ]
  },
  {
   "cell_type": "markdown",
   "id": "4b20e89e-a1b4-46ac-9378-8097e0676c06",
   "metadata": {},
   "source": [
    "<h2>Author<h2>\n",
    "\n",
    "Javier Barroso Sarracayo"
   ]
  },
  {
   "cell_type": "code",
   "execution_count": null,
   "id": "d1c6f037-e4a8-42a5-9189-66986e741558",
   "metadata": {},
   "outputs": [],
   "source": []
  }
 ],
 "metadata": {
  "kernelspec": {
   "display_name": "Python",
   "language": "python",
   "name": "conda-env-python-py"
  },
  "language_info": {
   "codemirror_mode": {
    "name": "ipython",
    "version": 3
   },
   "file_extension": ".py",
   "mimetype": "text/x-python",
   "name": "python",
   "nbconvert_exporter": "python",
   "pygments_lexer": "ipython3",
   "version": "3.7.12"
  }
 },
 "nbformat": 4,
 "nbformat_minor": 5
}
